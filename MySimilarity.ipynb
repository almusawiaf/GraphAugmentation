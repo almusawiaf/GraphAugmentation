{
 "cells": [
  {
   "attachments": {},
   "cell_type": "markdown",
   "id": "3e0aaed0",
   "metadata": {},
   "source": [
    "# Conditioned weighted similarity Approach\n",
    "-  We only measure the similarity for common features with values.\n",
    "-  We give weight based on the number of the common features with values.\n",
    "-  We assume that all features are equally participate in the final result. (Z-score)\n",
    "-  Drawback: All cells must have a value. Otherwise 0 meant to be missing."
   ]
  },
  {
   "cell_type": "code",
   "execution_count": 1,
   "id": "417a4d31",
   "metadata": {},
   "outputs": [
    {
     "name": "stdout",
     "output_type": "stream",
     "text": [
      "X = [1, 1, 1, 1]\tY = [1, 1, 1, 1]\tsim = 1.0\teuclidean = [[0.]]\n",
      "X = [1, 1, 1, 1]\tY = [1, 1, 1, 0.002]\tsim = 0.002\teuclidean = [[0.998]]\n",
      "X = [1, 1, 1, 1]\tY = [1, 1, 0, 0]\tsim = 0.5\teuclidean = [[1.41421356]]\n",
      "X = [1, 1, 1, 1]\tY = [0.0001, 0, 0, 0]\tsim = 0.0\teuclidean = [[1.99995]]\n",
      "X = [1, 1, 1, 0]\tY = [1, 1, 1, 0]\tsim = 0.75\teuclidean = [[0.]]\n",
      "X = [1, 1, 0, 0]\tY = [1, 1, 0, 0]\tsim = 0.5\teuclidean = [[0.]]\n",
      "X = [1, 1, 1, 0]\tY = [1, 0, 0, 0]\tsim = 0.25\teuclidean = [[1.41421356]]\n",
      "X = [1, 1, 1, 0]\tY = [0, 0, 0, 0]\tsim = 0.0\teuclidean = [[1.73205081]]\n",
      "X = [0, 0, 1, 0]\tY = [0, 0, 1, 0]\tsim = 0.25\teuclidean = [[0.]]\n",
      "X = [0, 0, 1, 1]\tY = [0, 0, 1, 1]\tsim = 0.5\teuclidean = [[0.]]\n",
      "X = [0.75, 0.75, 0.75, 0.75]\tY = [1, 1, 1, 1]\tsim = 0.5\teuclidean = [[0.5]]\n"
     ]
    }
   ],
   "source": [
    "import numpy as np\n",
    "from sklearn.metrics.pairwise import euclidean_distances\n",
    "\n",
    "def sim(X, Y):\n",
    "    t, s = 0, 0\n",
    "    for i in range(len(X)):\n",
    "        if X[i]>0 and Y[i]>0:\n",
    "            # change the code to focus on NaN values not zero.\n",
    "            t = t + 1\n",
    "            s = s + (X[i]-Y[i])**2\n",
    "    return (1-s**0.5) * t/len(X)\n",
    "\n",
    "A = [[[1,1,1,1], [1,1,1,1]],\n",
    "     \n",
    "     [[1,1,1,1], [1,1,1,0.002]],\n",
    "     \n",
    "     [[1,1,1,1], [1,1,0,0]],\n",
    "     \n",
    "     [[1,1,1,1], [0.0001,0,0,0]],\n",
    "     \n",
    "     [[1,1,1,0], [1,1,1,0]],\n",
    "     \n",
    "     [[1,1,0,0], [1,1,0,0]],\n",
    "     \n",
    "     [[1,1,1,0], [1,0,0,0]],\n",
    "     \n",
    "     [[1,1,1,0], [0,0,0,0]],\n",
    "     \n",
    "     [[0,0,1,0], [0,0,1,0]],\n",
    "     \n",
    "     [[0,0,1,1],[0,0,1,1]],\n",
    "     \n",
    "     [[0.75,0.75,0.75,0.75], [1,1,1,1]],\n",
    "]\n",
    "     \n",
    "B = [sim(j, i) for i, j in A]\n",
    "for i , j in A:\n",
    "    print(f'X = {i}\\tY = {j}\\tsim = {round(sim(i,j),3)}\\teuclidean = {euclidean_distances(np.array([i]), np.array([j]))}')"
   ]
  },
  {
   "cell_type": "code",
   "execution_count": 4,
   "id": "93aef2f3",
   "metadata": {},
   "outputs": [
    {
     "data": {
      "text/plain": [
       "0.25"
      ]
     },
     "execution_count": 4,
     "metadata": {},
     "output_type": "execute_result"
    }
   ],
   "source": [
    "np.sqrt(0.0625)"
   ]
  },
  {
   "cell_type": "code",
   "execution_count": 5,
   "id": "282b02a1",
   "metadata": {},
   "outputs": [
    {
     "data": {
      "text/plain": [
       "0.25"
      ]
     },
     "execution_count": 5,
     "metadata": {},
     "output_type": "execute_result"
    }
   ],
   "source": [
    "sim([50/250, 50/100], [0/250, 100/100])"
   ]
  }
 ],
 "metadata": {
  "kernelspec": {
   "display_name": "Python 3 (ipykernel)",
   "language": "python",
   "name": "python3"
  },
  "language_info": {
   "codemirror_mode": {
    "name": "ipython",
    "version": 3
   },
   "file_extension": ".py",
   "mimetype": "text/x-python",
   "name": "python",
   "nbconvert_exporter": "python",
   "pygments_lexer": "ipython3",
   "version": "3.9.12"
  }
 },
 "nbformat": 4,
 "nbformat_minor": 5
}
