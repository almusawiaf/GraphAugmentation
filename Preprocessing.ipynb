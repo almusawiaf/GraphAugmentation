{
 "cells": [
  {
   "attachments": {},
   "cell_type": "markdown",
   "metadata": {},
   "source": [
    "\n",
    "# Preprocessing and preparing the data"
   ]
  },
  {
   "cell_type": "code",
   "execution_count": 3,
   "metadata": {},
   "outputs": [],
   "source": [
    "import pandas as pd\n",
    "import numpy as np\n",
    "import matplotlib.pyplot as plt"
   ]
  },
  {
   "cell_type": "code",
   "execution_count": 18,
   "metadata": {},
   "outputs": [
    {
     "data": {
      "text/html": [
       "<div>\n",
       "<style scoped>\n",
       "    .dataframe tbody tr th:only-of-type {\n",
       "        vertical-align: middle;\n",
       "    }\n",
       "\n",
       "    .dataframe tbody tr th {\n",
       "        vertical-align: top;\n",
       "    }\n",
       "\n",
       "    .dataframe thead th {\n",
       "        text-align: right;\n",
       "    }\n",
       "</style>\n",
       "<table border=\"1\" class=\"dataframe\">\n",
       "  <thead>\n",
       "    <tr style=\"text-align: right;\">\n",
       "      <th></th>\n",
       "      <th>state</th>\n",
       "      <th>Days</th>\n",
       "    </tr>\n",
       "  </thead>\n",
       "  <tbody>\n",
       "    <tr>\n",
       "      <th>count</th>\n",
       "      <td>1538.000000</td>\n",
       "      <td>1538.000000</td>\n",
       "    </tr>\n",
       "    <tr>\n",
       "      <th>mean</th>\n",
       "      <td>0.172302</td>\n",
       "      <td>568.007152</td>\n",
       "    </tr>\n",
       "    <tr>\n",
       "      <th>std</th>\n",
       "      <td>0.377765</td>\n",
       "      <td>605.285336</td>\n",
       "    </tr>\n",
       "    <tr>\n",
       "      <th>min</th>\n",
       "      <td>0.000000</td>\n",
       "      <td>15.000000</td>\n",
       "    </tr>\n",
       "    <tr>\n",
       "      <th>25%</th>\n",
       "      <td>0.000000</td>\n",
       "      <td>242.000000</td>\n",
       "    </tr>\n",
       "    <tr>\n",
       "      <th>50%</th>\n",
       "      <td>0.000000</td>\n",
       "      <td>407.000000</td>\n",
       "    </tr>\n",
       "    <tr>\n",
       "      <th>75%</th>\n",
       "      <td>0.000000</td>\n",
       "      <td>686.750000</td>\n",
       "    </tr>\n",
       "    <tr>\n",
       "      <th>max</th>\n",
       "      <td>1.000000</td>\n",
       "      <td>7126.000000</td>\n",
       "    </tr>\n",
       "  </tbody>\n",
       "</table>\n",
       "</div>"
      ],
      "text/plain": [
       "             state         Days\n",
       "count  1538.000000  1538.000000\n",
       "mean      0.172302   568.007152\n",
       "std       0.377765   605.285336\n",
       "min       0.000000    15.000000\n",
       "25%       0.000000   242.000000\n",
       "50%       0.000000   407.000000\n",
       "75%       0.000000   686.750000\n",
       "max       1.000000  7126.000000"
      ]
     },
     "execution_count": 18,
     "metadata": {},
     "output_type": "execute_result"
    }
   ],
   "source": [
    "survival = pd.read_csv('data/survival.csv')\n",
    "survival.describe()"
   ]
  },
  {
   "attachments": {},
   "cell_type": "markdown",
   "metadata": {},
   "source": [
    "# LUNG Dataset\n",
    "## Numerical features"
   ]
  },
  {
   "cell_type": "code",
   "execution_count": 38,
   "metadata": {},
   "outputs": [
    {
     "name": "stdout",
     "output_type": "stream",
     "text": [
      "       Lung_Ipsi_Already_Subtracted_V5Gy   LU_DVH_28  TotalNumberOfNotes  \\\n",
      "count                         100.000000  628.000000          773.000000   \n",
      "mean                           65.962470    7.146262            9.058215   \n",
      "std                            17.942499    3.565954            2.946936   \n",
      "min                            13.856340    0.014666            0.000000   \n",
      "25%                            55.873377    4.736149            7.000000   \n",
      "50%                            67.745435    6.597207            9.000000   \n",
      "75%                            77.869534    9.116760           11.000000   \n",
      "max                           100.000000   28.990862           27.000000   \n",
      "\n",
      "       Lung_Contra_Already_Subtracted_V20Gy  \\\n",
      "count                             15.000000   \n",
      "mean                              16.102849   \n",
      "std                                5.708704   \n",
      "min                                4.585702   \n",
      "25%                               13.074970   \n",
      "50%                               14.984071   \n",
      "75%                               18.687195   \n",
      "max                               30.531332   \n",
      "\n",
      "       Lung_Ipsi + Lung_Contra - Lung_Subtraction_Structure ((Lung_Ipsi + Lung_Contra) - Lung_Subtraction_Structure)_DMean  \\\n",
      "count                                         575.000000                                                                     \n",
      "mean                                           15.150556                                                                     \n",
      "std                                             3.976380                                                                     \n",
      "min                                             3.043208                                                                     \n",
      "25%                                            12.570829                                                                     \n",
      "50%                                            15.169266                                                                     \n",
      "75%                                            17.852174                                                                     \n",
      "max                                            29.655703                                                                     \n",
      "\n",
      "       LungEsophagitisWithGrade   LU_DVH_24  \\\n",
      "count                773.000000  628.000000   \n",
      "mean                   0.344114    7.762896   \n",
      "std                    1.052056    7.969731   \n",
      "min                    0.000000    0.000000   \n",
      "25%                    0.000000    1.717586   \n",
      "50%                    0.000000    5.642663   \n",
      "75%                    0.000000   11.159068   \n",
      "max                    6.000000   56.433655   \n",
      "\n",
      "       NumberOfNotesWithToxicityInitialized   LU_DVH_25  LungPneumonitisTotal  \\\n",
      "count                            773.000000  577.000000            773.000000   \n",
      "mean                               7.655886   68.873629              0.124191   \n",
      "std                                3.336186   16.678007              0.526595   \n",
      "min                                0.000000   14.639434              0.000000   \n",
      "25%                                6.000000   56.591878              0.000000   \n",
      "50%                                8.000000   69.823382              0.000000   \n",
      "75%                                9.000000   81.256521              0.000000   \n",
      "max                               23.000000  100.000000              6.000000   \n",
      "\n",
      "       ...   LU_DVH_27   LU_DVH_26  Lung_Contra_Already_Subtracted_V5Gy  \\\n",
      "count  ...  577.000000  628.000000                            15.000000   \n",
      "mean   ...   24.310664   42.634970                            54.991537   \n",
      "std    ...    7.809239   19.883704                            11.145484   \n",
      "min    ...    4.169363    0.000000                            35.792391   \n",
      "25%    ...   19.280772   28.633071                            47.716290   \n",
      "50%    ...   23.665031   43.947444                            55.492389   \n",
      "75%    ...   29.106501   56.565568                            64.340102   \n",
      "max    ...   54.569423   92.709144                            72.197197   \n",
      "\n",
      "       Lung_Ipsi_Already_Subtracted_V20Gy  LungPneumonitisWithGrade  \\\n",
      "count                          100.000000                773.000000   \n",
      "mean                            44.651890                  0.050453   \n",
      "std                             15.957878                  0.386012   \n",
      "min                              5.456532                  0.000000   \n",
      "25%                             34.207041                  0.000000   \n",
      "50%                             46.198756                  0.000000   \n",
      "75%                             54.245354                  0.000000   \n",
      "max                             88.063868                  6.000000   \n",
      "\n",
      "       Lung_Ipsi_Already_Subtracted_DMean  \\\n",
      "count                          100.000000   \n",
      "mean                            22.286887   \n",
      "std                              7.760607   \n",
      "min                              3.673954   \n",
      "25%                             16.581501   \n",
      "50%                             22.671375   \n",
      "75%                             27.080437   \n",
      "max                             41.751662   \n",
      "\n",
      "       Lung_Ipsi + Lung_Contra - Lung_Subtraction_Structure ((Lung_Ipsi + Lung_Contra) - Lung_Subtraction_Structure)_V5Gy  \\\n",
      "count                                         575.000000                                                                    \n",
      "mean                                           55.056037                                                                    \n",
      "std                                            14.827860                                                                    \n",
      "min                                            13.302953                                                                    \n",
      "25%                                            45.085344                                                                    \n",
      "50%                                            54.817722                                                                    \n",
      "75%                                            64.781121                                                                    \n",
      "max                                            95.625923                                                                    \n",
      "\n",
      "       LungEsophagitisTotal  \\\n",
      "count            773.000000   \n",
      "mean               0.877102   \n",
      "std                1.490612   \n",
      "min                0.000000   \n",
      "25%                0.000000   \n",
      "50%                0.000000   \n",
      "75%                1.000000   \n",
      "max                7.000000   \n",
      "\n",
      "       Lung_Ipsi + Lung_Contra - Lung_Subtraction_Structure ((Lung_Ipsi + Lung_Contra) - Lung_Subtraction_Structure)_V20Gy  \\\n",
      "count                                         575.000000                                                                     \n",
      "mean                                           26.416403                                                                     \n",
      "std                                             7.612687                                                                     \n",
      "min                                             3.541308                                                                     \n",
      "25%                                            21.479000                                                                     \n",
      "50%                                            26.495372                                                                     \n",
      "75%                                            31.992069                                                                     \n",
      "max                                            59.728255                                                                     \n",
      "\n",
      "        LU_DVH_23  \n",
      "count  577.000000  \n",
      "mean    47.783677  \n",
      "std     14.798711  \n",
      "min      2.527668  \n",
      "25%     38.391184  \n",
      "50%     47.820340  \n",
      "75%     57.128592  \n",
      "max     91.328521  \n",
      "\n",
      "[8 rows x 21 columns]\n"
     ]
    },
    {
     "data": {
      "text/plain": [
       "['LU_DVH_23',\n",
       " 'LU_DVH_24',\n",
       " 'LU_DVH_25',\n",
       " 'LU_DVH_26',\n",
       " 'LU_DVH_27',\n",
       " 'LU_DVH_28',\n",
       " 'LungEsophagitisTotal',\n",
       " 'LungEsophagitisWithGrade',\n",
       " 'LungPneumonitisTotal',\n",
       " 'LungPneumonitisWithGrade',\n",
       " 'Lung_Contra_Already_Subtracted_DMean',\n",
       " 'Lung_Contra_Already_Subtracted_V20Gy',\n",
       " 'Lung_Contra_Already_Subtracted_V5Gy',\n",
       " 'Lung_Ipsi + Lung_Contra - Lung_Subtraction_Structure ((Lung_Ipsi + Lung_Contra) - Lung_Subtraction_Structure)_DMean',\n",
       " 'Lung_Ipsi + Lung_Contra - Lung_Subtraction_Structure ((Lung_Ipsi + Lung_Contra) - Lung_Subtraction_Structure)_V20Gy',\n",
       " 'Lung_Ipsi + Lung_Contra - Lung_Subtraction_Structure ((Lung_Ipsi + Lung_Contra) - Lung_Subtraction_Structure)_V5Gy',\n",
       " 'Lung_Ipsi_Already_Subtracted_DMean',\n",
       " 'Lung_Ipsi_Already_Subtracted_V20Gy',\n",
       " 'Lung_Ipsi_Already_Subtracted_V5Gy',\n",
       " 'NumberOfNotesWithToxicityInitialized',\n",
       " 'TotalNumberOfNotes',\n",
       " 'cancer_type',\n",
       " 'vha_id']"
      ]
     },
     "execution_count": 38,
     "metadata": {},
     "output_type": "execute_result"
    }
   ],
   "source": [
    "\n",
    "n_lung = pd.read_csv('data/Lung/numerical.csv', index_col=0)\n",
    "n_lung = n_lung.drop(['center_id', 'center_name'], axis=1)\n",
    "print(n_lung.describe())\n",
    "sorted(list(n_lung.keys()))"
   ]
  },
  {
   "cell_type": "code",
   "execution_count": 39,
   "metadata": {},
   "outputs": [
    {
     "data": {
      "text/plain": [
       "Lung_Ipsi_Already_Subtracted_V5Gy                                                                                      0.870634\n",
       "LU_DVH_28                                                                                                              0.187581\n",
       "TotalNumberOfNotes                                                                                                     0.000000\n",
       "Lung_Contra_Already_Subtracted_V20Gy                                                                                   0.980595\n",
       "Lung_Ipsi + Lung_Contra - Lung_Subtraction_Structure ((Lung_Ipsi + Lung_Contra) - Lung_Subtraction_Structure)_DMean    0.256145\n",
       "LungEsophagitisWithGrade                                                                                               0.000000\n",
       "LU_DVH_24                                                                                                              0.187581\n",
       "NumberOfNotesWithToxicityInitialized                                                                                   0.000000\n",
       "LU_DVH_25                                                                                                              0.253558\n",
       "LungPneumonitisTotal                                                                                                   0.000000\n",
       "Lung_Contra_Already_Subtracted_DMean                                                                                   0.980595\n",
       "LU_DVH_27                                                                                                              0.253558\n",
       "LU_DVH_26                                                                                                              0.187581\n",
       "Lung_Contra_Already_Subtracted_V5Gy                                                                                    0.980595\n",
       "Lung_Ipsi_Already_Subtracted_V20Gy                                                                                     0.870634\n",
       "LungPneumonitisWithGrade                                                                                               0.000000\n",
       "Lung_Ipsi_Already_Subtracted_DMean                                                                                     0.870634\n",
       "Lung_Ipsi + Lung_Contra - Lung_Subtraction_Structure ((Lung_Ipsi + Lung_Contra) - Lung_Subtraction_Structure)_V5Gy     0.256145\n",
       "LungEsophagitisTotal                                                                                                   0.000000\n",
       "vha_id                                                                                                                 0.000000\n",
       "cancer_type                                                                                                            0.000000\n",
       "Lung_Ipsi + Lung_Contra - Lung_Subtraction_Structure ((Lung_Ipsi + Lung_Contra) - Lung_Subtraction_Structure)_V20Gy    0.256145\n",
       "LU_DVH_23                                                                                                              0.253558\n",
       "dtype: float64"
      ]
     },
     "execution_count": 39,
     "metadata": {},
     "output_type": "execute_result"
    }
   ],
   "source": [
    "n_lung.isnull().sum()/773"
   ]
  },
  {
   "cell_type": "code",
   "execution_count": 40,
   "metadata": {},
   "outputs": [
    {
     "data": {
      "text/plain": [
       "LU_DVH_28                                                                                                              0.187581\n",
       "TotalNumberOfNotes                                                                                                     0.000000\n",
       "Lung_Ipsi + Lung_Contra - Lung_Subtraction_Structure ((Lung_Ipsi + Lung_Contra) - Lung_Subtraction_Structure)_DMean    0.256145\n",
       "LungEsophagitisWithGrade                                                                                               0.000000\n",
       "LU_DVH_24                                                                                                              0.187581\n",
       "NumberOfNotesWithToxicityInitialized                                                                                   0.000000\n",
       "LU_DVH_25                                                                                                              0.253558\n",
       "LungPneumonitisTotal                                                                                                   0.000000\n",
       "LU_DVH_27                                                                                                              0.253558\n",
       "LU_DVH_26                                                                                                              0.187581\n",
       "LungPneumonitisWithGrade                                                                                               0.000000\n",
       "Lung_Ipsi + Lung_Contra - Lung_Subtraction_Structure ((Lung_Ipsi + Lung_Contra) - Lung_Subtraction_Structure)_V5Gy     0.256145\n",
       "LungEsophagitisTotal                                                                                                   0.000000\n",
       "vha_id                                                                                                                 0.000000\n",
       "cancer_type                                                                                                            0.000000\n",
       "Lung_Ipsi + Lung_Contra - Lung_Subtraction_Structure ((Lung_Ipsi + Lung_Contra) - Lung_Subtraction_Structure)_V20Gy    0.256145\n",
       "LU_DVH_23                                                                                                              0.253558\n",
       "dtype: float64"
      ]
     },
     "execution_count": 40,
     "metadata": {},
     "output_type": "execute_result"
    }
   ],
   "source": [
    "#Dropping columns with missed values of more than 80%\n",
    "\n",
    "def dropping_cols(df, p=80):\n",
    "    nan_counts = df.isna().sum()    \n",
    "    nan_percentages = nan_counts / len(df) * 100 \n",
    "    cols_to_drop = nan_percentages[nan_percentages > p].index.tolist()\n",
    "    df = df.drop(cols_to_drop, axis=1)\n",
    "    return df    \n",
    "\n",
    "n_lung = dropping_cols(n_lung, 80)\n",
    "n_lung.isnull().sum()/773"
   ]
  },
  {
   "cell_type": "code",
   "execution_count": 41,
   "metadata": {},
   "outputs": [
    {
     "name": "stdout",
     "output_type": "stream",
     "text": [
      "     LU_DVH_28  TotalNumberOfNotes  \\\n",
      "0     6.858694                 8.0   \n",
      "1     6.677710                 9.0   \n",
      "2     4.935014                10.0   \n",
      "3     5.636330                 9.0   \n",
      "4     7.276093                10.0   \n",
      "..         ...                 ...   \n",
      "768   1.298097                 9.0   \n",
      "769   4.887026                 4.0   \n",
      "770   6.826124                 6.0   \n",
      "771   3.590745                 6.0   \n",
      "772   2.795710                10.0   \n",
      "\n",
      "     Lung_Ipsi + Lung_Contra - Lung_Subtraction_Structure ((Lung_Ipsi + Lung_Contra) - Lung_Subtraction_Structure)_DMean  \\\n",
      "0                                            15.807393                                                                     \n",
      "1                                            14.487703                                                                     \n",
      "2                                            16.569222                                                                     \n",
      "3                                            14.532199                                                                     \n",
      "4                                            19.432468                                                                     \n",
      "..                                                 ...                                                                     \n",
      "768                                          11.977461                                                                     \n",
      "769                                          16.379336                                                                     \n",
      "770                                          16.608732                                                                     \n",
      "771                                          12.384861                                                                     \n",
      "772                                           8.189586                                                                     \n",
      "\n",
      "     LungEsophagitisWithGrade  LU_DVH_24  \\\n",
      "0                         0.0   9.867052   \n",
      "1                         6.0  10.960474   \n",
      "2                         6.0   5.663030   \n",
      "3                         4.0   0.557558   \n",
      "4                         5.0   5.375518   \n",
      "..                        ...        ...   \n",
      "768                       0.0   0.268814   \n",
      "769                       0.0   3.171784   \n",
      "770                       0.0   5.895222   \n",
      "771                       0.0   0.080024   \n",
      "772                       0.0   2.734175   \n",
      "\n",
      "     NumberOfNotesWithToxicityInitialized  LU_DVH_25  LungPneumonitisTotal  \\\n",
      "0                                     8.0  63.595511                   0.0   \n",
      "1                                     9.0  63.618332                   0.0   \n",
      "2                                    10.0  66.684741                   0.0   \n",
      "3                                     9.0  57.980541                   0.0   \n",
      "4                                    10.0  91.226344                   0.0   \n",
      "..                                    ...        ...                   ...   \n",
      "768                                   9.0  53.720835                   0.0   \n",
      "769                                   4.0  74.574599                   0.0   \n",
      "770                                   6.0  70.892367                   0.0   \n",
      "771                                   6.0  78.265304                   0.0   \n",
      "772                                  10.0  40.983809                   0.0   \n",
      "\n",
      "     LU_DVH_27  LU_DVH_26  LungPneumonitisWithGrade  \\\n",
      "0    24.403957  34.359700                       0.0   \n",
      "1    23.131032  31.330984                       0.0   \n",
      "2    24.965864  24.221081                       0.0   \n",
      "3    22.816645  38.811212                       0.0   \n",
      "4    31.994166  54.748618                       0.0   \n",
      "..         ...        ...                       ...   \n",
      "768  21.243729   2.327215                       0.0   \n",
      "769  31.398692  34.779103                       0.0   \n",
      "770  31.587831  46.396635                       0.0   \n",
      "771  20.619209  20.168570                       0.0   \n",
      "772  13.153109  16.063149                       0.0   \n",
      "\n",
      "     Lung_Ipsi + Lung_Contra - Lung_Subtraction_Structure ((Lung_Ipsi + Lung_Contra) - Lung_Subtraction_Structure)_V5Gy  \\\n",
      "0                                            48.595482                                                                    \n",
      "1                                            46.657006                                                                    \n",
      "2                                            48.884592                                                                    \n",
      "3                                            48.736981                                                                    \n",
      "4                                            72.688403                                                                    \n",
      "..                                                 ...                                                                    \n",
      "768                                          29.844577                                                                    \n",
      "769                                          52.029705                                                                    \n",
      "770                                          56.074164                                                                    \n",
      "771                                          50.171829                                                                    \n",
      "772                                          29.040962                                                                    \n",
      "\n",
      "     LungEsophagitisTotal  \\\n",
      "0                     0.0   \n",
      "1                     6.0   \n",
      "2                     6.0   \n",
      "3                     4.0   \n",
      "4                     5.0   \n",
      "..                    ...   \n",
      "768                   0.0   \n",
      "769                   0.0   \n",
      "770                   0.0   \n",
      "771                   0.0   \n",
      "772                   0.0   \n",
      "\n",
      "     Lung_Ipsi + Lung_Contra - Lung_Subtraction_Structure ((Lung_Ipsi + Lung_Contra) - Lung_Subtraction_Structure)_V20Gy  \\\n",
      "0                                            26.578806                                                                     \n",
      "1                                            28.126339                                                                     \n",
      "2                                            30.136868                                                                     \n",
      "3                                            22.573872                                                                     \n",
      "4                                            33.505503                                                                     \n",
      "..                                                 ...                                                                     \n",
      "768                                          21.028291                                                                     \n",
      "769                                          27.637646                                                                     \n",
      "770                                          27.100541                                                                     \n",
      "771                                          22.719697                                                                     \n",
      "772                                          15.434622                                                                     \n",
      "\n",
      "     LU_DVH_23  \n",
      "0    44.387734  \n",
      "1    47.123823  \n",
      "2    47.800127  \n",
      "3    43.076979  \n",
      "4    62.573410  \n",
      "..         ...  \n",
      "768  39.040868  \n",
      "769  59.612198  \n",
      "770  59.570063  \n",
      "771  43.918297  \n",
      "772  27.122588  \n",
      "\n",
      "[773 rows x 15 columns]\n"
     ]
    }
   ],
   "source": [
    "# Imputation to the kNN\n",
    "from sklearn.impute import KNNImputer\n",
    "numeric_df = n_lung.select_dtypes(include='number')\n",
    "imputer = KNNImputer(n_neighbors=3)\n",
    "imputed_df = pd.DataFrame(imputer.fit_transform(numeric_df), columns=numeric_df.columns)\n",
    "# imputed_df['vha_id'] = n_lung['vha_id']\n",
    "print(imputed_df)"
   ]
  },
  {
   "attachments": {},
   "cell_type": "markdown",
   "metadata": {},
   "source": [
    "## Similarity matrix"
   ]
  },
  {
   "cell_type": "code",
   "execution_count": 47,
   "metadata": {},
   "outputs": [
    {
     "name": "stdout",
     "output_type": "stream",
     "text": [
      "<class 'numpy.ndarray'>\n"
     ]
    },
    {
     "data": {
      "text/plain": [
       "(773, 773)"
      ]
     },
     "execution_count": 47,
     "metadata": {},
     "output_type": "execute_result"
    }
   ],
   "source": [
    "from scipy.spatial.distance import pdist, squareform\n",
    "\n",
    "distances = pdist(imputed_df, metric='euclidean')\n",
    "\n",
    "# Convert distances to similarity matrix\n",
    "SM = 1 / (1 + squareform(distances))\n",
    "\n",
    "# Print the similarity matrix\n",
    "print(type(SM))\n",
    "pd.DataFrame(SM).to_csv('data/Lung/SM/numericalSM.csv')\n",
    "SM.shape"
   ]
  },
  {
   "attachments": {},
   "cell_type": "markdown",
   "metadata": {},
   "source": [
    "# Processing Categorical DF"
   ]
  },
  {
   "cell_type": "code",
   "execution_count": 52,
   "metadata": {},
   "outputs": [
    {
     "name": "stdout",
     "output_type": "stream",
     "text": [
      "Feature 'Lung_Contra - Lung_Subtraction_Structure (Lung_Contra - Lung_Subtraction_Structure)_V20Gy': [nan 'Red' 'Green' 'Yellow']\n",
      "Feature 'Lung_Contra - Lung_Subtraction_Structure (Lung_Contra - Lung_Subtraction_Structure)_DMean': [nan 'Green' 'Red' 'Yellow']\n",
      "Feature 'SpinalCord_DMax': ['Green' 'Yellow' nan 'Red']\n",
      "Feature 'Esophagus_DMean': ['Green' 'Yellow' 'Red' nan]\n",
      "Feature 'Lung_Ipsi_Already_Subtracted + Lung_Contra_Already_Subtracted (Lung_Ipsi_Already_Subtracted + Lung_Contra_Already_Subtracted)_V5Gy': [nan 'Red' 'Green' 'Yellow']\n",
      "Feature 'Lung_Total - Lung_Subtraction_Structure (Lung_Total - Lung_Subtraction_Structure)_V5Gy': ['Yellow' nan 'Green' 'Red']\n",
      "Feature 'BrachialPlexus_DMax': [nan 'Green' 'Yellow' 'Red']\n",
      "Feature 'Esophagus_DMax': ['Green' 'Yellow' 'Red' nan]\n",
      "Feature 'Esophagus_D0.035cc': ['Green' 'Yellow' 'Red' nan]\n",
      "Feature 'Heart_V45Gy': ['Green' 'Yellow' 'Red' nan]\n",
      "Feature 'BrachialPlexus_D0.035cc': [nan 'Green' 'Yellow' 'Red']\n",
      "Feature 'Esophagus_V60Gy': ['Green' 'Red' 'Yellow' nan]\n",
      "Feature 'SpinalCord_D0.035cc': ['Green' 'Yellow' nan 'Red']\n",
      "Feature 'Lung_Ipsi - Lung_Subtraction_Structure (Lung_Ipsi - Lung_Subtraction_Structure)_V5Gy': [nan 'Red' 'Yellow' 'Green']\n",
      "Feature 'Lung_Total_Already_Subtracted_V5Gy': ['Red' 'Green' nan 'Yellow']\n",
      "Feature 'Lung_Total_Already_Subtracted_V20Gy': ['Green' nan 'Yellow' 'Red']\n",
      "Feature 'Lung_Ipsi - Lung_Subtraction_Structure (Lung_Ipsi - Lung_Subtraction_Structure)_DMean': [nan 'Red' 'Green' 'Yellow']\n",
      "Feature 'Lung_Ipsi_Already_Subtracted + Lung_Contra_Already_Subtracted (Lung_Ipsi_Already_Subtracted + Lung_Contra_Already_Subtracted)_DMean': [nan 'Green' 'Yellow' 'Red']\n",
      "Feature 'Lung_Total_Already_Subtracted_DMean': ['Yellow' 'Green' nan 'Red']\n",
      "Feature 'Lung_Total - Lung_Subtraction_Structure (Lung_Total - Lung_Subtraction_Structure)_DMean': ['Green' nan 'Yellow' 'Red']\n",
      "Feature 'Lung_Ipsi - Lung_Subtraction_Structure (Lung_Ipsi - Lung_Subtraction_Structure)_V20Gy': [nan 'Red' 'Green' 'Yellow']\n",
      "Feature 'PTV_DMin': ['Yellow' 'Green' 'Red' nan]\n",
      "Feature 'Lung_Ipsi_Already_Subtracted + Lung_Contra_Already_Subtracted (Lung_Ipsi_Already_Subtracted + Lung_Contra_Already_Subtracted)_V20Gy': [nan 'Green' 'Red' 'Yellow']\n",
      "Feature 'Lung_Total - Lung_Subtraction_Structure (Lung_Total - Lung_Subtraction_Structure)_V20Gy': ['Green' nan 'Yellow' 'Red']\n",
      "Feature 'Lung_Contra - Lung_Subtraction_Structure (Lung_Contra - Lung_Subtraction_Structure)_V5Gy': [nan 'Green' 'Yellow' 'Red']\n",
      "Feature 'PTV_D95%': ['Yellow' 'Green' 'Red' nan]\n"
     ]
    }
   ],
   "source": [
    "Lung_QMs = ['QualityMeasure1','QualityMeasure10','QualityMeasure11','QualityMeasure12','QualityMeasure13','QualityMeasure14','QualityMeasure15','QualityMeasure15Chemo','QualityMeasure15RT','QualityMeasure15Surgery','QualityMeasure16','QualityMeasure17','QualityMeasure18','QualityMeasure19','QualityMeasure19_color','QualityMeasure2','QualityMeasure20','QualityMeasure21A','QualityMeasure21B','QualityMeasure22','QualityMeasure23','QualityMeasure24','QualityMeasure27','QualityMeasure3','QualityMeasure4','QualityMeasure5','QualityMeasure6','QualityMeasure7','QualityMeasure8A','QualityMeasure8B','QualityMeasure9']\n",
    "\n",
    "c_lung = pd.read_csv('data/Lung/categorical.csv', index_col=0)\n",
    "\n",
    "c_lung = c_lung.drop(Lung_QMs+['center_name', 'cancer_type', 'vha_id'], axis=1)\n",
    "\n",
    "df = c_lung.copy()\n",
    "for column in df.columns:\n",
    "    unique_values = df[column].unique()\n",
    "    print(f\"Feature '{column}': {unique_values}\")"
   ]
  },
  {
   "cell_type": "code",
   "execution_count": 49,
   "metadata": {},
   "outputs": [
    {
     "data": {
      "text/plain": [
       "Lung_Contra - Lung_Subtraction_Structure (Lung_Contra - Lung_Subtraction_Structure)_V20Gy                                              0.187581\n",
       "Lung_Contra - Lung_Subtraction_Structure (Lung_Contra - Lung_Subtraction_Structure)_DMean                                              0.187581\n",
       "SpinalCord_DMax                                                                                                                        0.007762\n",
       "Esophagus_DMean                                                                                                                        0.108668\n",
       "Lung_Ipsi_Already_Subtracted + Lung_Contra_Already_Subtracted (Lung_Ipsi_Already_Subtracted + Lung_Contra_Already_Subtracted)_V5Gy     0.980595\n",
       "Lung_Total - Lung_Subtraction_Structure (Lung_Total - Lung_Subtraction_Structure)_V5Gy                                                 0.468305\n",
       "BrachialPlexus_DMax                                                                                                                    0.842173\n",
       "Esophagus_DMax                                                                                                                         0.108668\n",
       "Esophagus_D0.035cc                                                                                                                     0.108668\n",
       "Heart_V45Gy                                                                                                                            0.025873\n",
       "BrachialPlexus_D0.035cc                                                                                                                0.842173\n",
       "Esophagus_V60Gy                                                                                                                        0.108668\n",
       "SpinalCord_D0.035cc                                                                                                                    0.007762\n",
       "Lung_Ipsi - Lung_Subtraction_Structure (Lung_Ipsi - Lung_Subtraction_Structure)_V5Gy                                                   0.253558\n",
       "Lung_Total_Already_Subtracted_V5Gy                                                                                                     0.407503\n",
       "Lung_Total_Already_Subtracted_V20Gy                                                                                                    0.407503\n",
       "Lung_Ipsi - Lung_Subtraction_Structure (Lung_Ipsi - Lung_Subtraction_Structure)_DMean                                                  0.253558\n",
       "Lung_Ipsi_Already_Subtracted + Lung_Contra_Already_Subtracted (Lung_Ipsi_Already_Subtracted + Lung_Contra_Already_Subtracted)_DMean    0.980595\n",
       "Lung_Total_Already_Subtracted_DMean                                                                                                    0.407503\n",
       "Lung_Total - Lung_Subtraction_Structure (Lung_Total - Lung_Subtraction_Structure)_DMean                                                0.468305\n",
       "Lung_Ipsi - Lung_Subtraction_Structure (Lung_Ipsi - Lung_Subtraction_Structure)_V20Gy                                                  0.253558\n",
       "PTV_DMin                                                                                                                               0.003881\n",
       "Lung_Ipsi_Already_Subtracted + Lung_Contra_Already_Subtracted (Lung_Ipsi_Already_Subtracted + Lung_Contra_Already_Subtracted)_V20Gy    0.980595\n",
       "Lung_Total - Lung_Subtraction_Structure (Lung_Total - Lung_Subtraction_Structure)_V20Gy                                                0.468305\n",
       "Lung_Contra - Lung_Subtraction_Structure (Lung_Contra - Lung_Subtraction_Structure)_V5Gy                                               0.187581\n",
       "PTV_D95%                                                                                                                               0.003881\n",
       "dtype: float64"
      ]
     },
     "execution_count": 49,
     "metadata": {},
     "output_type": "execute_result"
    }
   ],
   "source": [
    "c_lung.isnull().sum()/773"
   ]
  },
  {
   "cell_type": "code",
   "execution_count": 50,
   "metadata": {},
   "outputs": [
    {
     "data": {
      "text/plain": [
       "Lung_Contra - Lung_Subtraction_Structure (Lung_Contra - Lung_Subtraction_Structure)_V20Gy    0.187581\n",
       "Lung_Contra - Lung_Subtraction_Structure (Lung_Contra - Lung_Subtraction_Structure)_DMean    0.187581\n",
       "SpinalCord_DMax                                                                              0.007762\n",
       "Esophagus_DMean                                                                              0.108668\n",
       "Lung_Total - Lung_Subtraction_Structure (Lung_Total - Lung_Subtraction_Structure)_V5Gy       0.468305\n",
       "Esophagus_DMax                                                                               0.108668\n",
       "Esophagus_D0.035cc                                                                           0.108668\n",
       "Heart_V45Gy                                                                                  0.025873\n",
       "Esophagus_V60Gy                                                                              0.108668\n",
       "SpinalCord_D0.035cc                                                                          0.007762\n",
       "Lung_Ipsi - Lung_Subtraction_Structure (Lung_Ipsi - Lung_Subtraction_Structure)_V5Gy         0.253558\n",
       "Lung_Total_Already_Subtracted_V5Gy                                                           0.407503\n",
       "Lung_Total_Already_Subtracted_V20Gy                                                          0.407503\n",
       "Lung_Ipsi - Lung_Subtraction_Structure (Lung_Ipsi - Lung_Subtraction_Structure)_DMean        0.253558\n",
       "Lung_Total_Already_Subtracted_DMean                                                          0.407503\n",
       "Lung_Total - Lung_Subtraction_Structure (Lung_Total - Lung_Subtraction_Structure)_DMean      0.468305\n",
       "Lung_Ipsi - Lung_Subtraction_Structure (Lung_Ipsi - Lung_Subtraction_Structure)_V20Gy        0.253558\n",
       "PTV_DMin                                                                                     0.003881\n",
       "Lung_Total - Lung_Subtraction_Structure (Lung_Total - Lung_Subtraction_Structure)_V20Gy      0.468305\n",
       "Lung_Contra - Lung_Subtraction_Structure (Lung_Contra - Lung_Subtraction_Structure)_V5Gy     0.187581\n",
       "PTV_D95%                                                                                     0.003881\n",
       "dtype: float64"
      ]
     },
     "execution_count": 50,
     "metadata": {},
     "output_type": "execute_result"
    }
   ],
   "source": [
    "c_lung = dropping_cols(c_lung, 80)\n",
    "c_lung.isnull().sum()/773"
   ]
  },
  {
   "cell_type": "code",
   "execution_count": null,
   "metadata": {},
   "outputs": [],
   "source": []
  },
  {
   "cell_type": "code",
   "execution_count": null,
   "metadata": {},
   "outputs": [],
   "source": []
  },
  {
   "cell_type": "code",
   "execution_count": null,
   "metadata": {},
   "outputs": [],
   "source": []
  },
  {
   "cell_type": "code",
   "execution_count": null,
   "metadata": {},
   "outputs": [],
   "source": []
  }
 ],
 "metadata": {
  "kernelspec": {
   "display_name": "base",
   "language": "python",
   "name": "python3"
  },
  "language_info": {
   "codemirror_mode": {
    "name": "ipython",
    "version": 3
   },
   "file_extension": ".py",
   "mimetype": "text/x-python",
   "name": "python",
   "nbconvert_exporter": "python",
   "pygments_lexer": "ipython3",
   "version": "3.9.12"
  },
  "orig_nbformat": 4
 },
 "nbformat": 4,
 "nbformat_minor": 2
}
