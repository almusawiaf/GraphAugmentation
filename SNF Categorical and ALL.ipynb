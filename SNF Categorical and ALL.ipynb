{
 "cells": [
  {
   "cell_type": "markdown",
   "id": "bb578c0b",
   "metadata": {},
   "source": [
    "# SNF approach \n",
    "-  Categorical data only\n",
    "-  ALL (numerical and categorical data)"
   ]
  },
  {
   "cell_type": "code",
   "execution_count": 1,
   "id": "acbe31ba",
   "metadata": {},
   "outputs": [],
   "source": [
    "import pandas as pd\n",
    "import numpy as np\n",
    "import matplotlib.pyplot as plt\n",
    "import seaborn as sns\n",
    "\n"
   ]
  },
  {
   "cell_type": "code",
   "execution_count": 2,
   "id": "01824091",
   "metadata": {},
   "outputs": [],
   "source": [
    "import pandas as pd\n",
    "import numpy as np\n",
    "import matplotlib.pyplot as plt\n",
    "import seaborn as sns\n",
    "\n",
    "from sklearn.preprocessing import StandardScaler, OneHotEncoder\n",
    "distance = ['euclidean','minkowski','cityblock','seuclidean','sqeuclidean','cosine','correlation','hamming','jensenshannon','chebyshev','canberra','braycurtis','mahalanobis','yule','matching','dice','kulczynski1','rogerstanimoto','russellrao','sokalmichener']\n",
    "no_scale = ['vha_id', 'center_name', 'center_id', 'cancer_type']\n",
    "Prostate_QMs = ['QualityMeasure1','QualityMeasure10','QualityMeasure11','QualityMeasure12','QualityMeasure13','QualityMeasure14','QualityMeasure15','QualityMeasure15_color','QualityMeasure16','QualityMeasure17A','QualityMeasure17B','QualityMeasure18','QualityMeasure19','QualityMeasure2','QualityMeasure24','QualityMeasure3','QualityMeasure4','QualityMeasure5','QualityMeasure6','QualityMeasure7','QualityMeasure8','QualityMeasure9']\n",
    "Lung_QMs = ['QualityMeasure1','QualityMeasure10','QualityMeasure11','QualityMeasure12','QualityMeasure13','QualityMeasure14','QualityMeasure15','QualityMeasure15Chemo','QualityMeasure15RT','QualityMeasure15Surgery','QualityMeasure16','QualityMeasure17','QualityMeasure18','QualityMeasure19','QualityMeasure19_color','QualityMeasure2','QualityMeasure20','QualityMeasure21A','QualityMeasure21B','QualityMeasure22','QualityMeasure23','QualityMeasure24','QualityMeasure27','QualityMeasure3','QualityMeasure4','QualityMeasure5','QualityMeasure6','QualityMeasure7','QualityMeasure8A','QualityMeasure8B','QualityMeasure9']\n",
    "dist = distance[0]\n",
    "\n",
    "\n",
    "\n",
    "def data_impute(df):\n",
    "    return df.fillna(df.mode().iloc[0])\n",
    "\n",
    "def scaling(df):\n",
    "    features_to_scale = extract_features(df)\n",
    "    scaler = StandardScaler()\n",
    "    scaler.fit(df[features_to_scale])\n",
    "    scaled_features = scaler.transform(df[features_to_scale])\n",
    "    df_scaled = pd.DataFrame(scaled_features, columns=features_to_scale)\n",
    "    df_scaled[no_scale] = df[no_scale]\n",
    "    return df_scaled\n",
    "\n",
    "#Dropping columns with missed values of more than 80%\n",
    "\n",
    "#1- count the number of NaN values in each column\n",
    "#2- calculate the percentage of NaN values in each column\n",
    "#3- get the list of columns to drop\n",
    "#4- drop the columns with more than 80% NaN values\n",
    "def dropping_cols(df, p=80):\n",
    "    nan_counts = df.isna().sum()    \n",
    "    nan_percentages = nan_counts / len(df) * 100 \n",
    "    cols_to_drop = nan_percentages[nan_percentages > p].index.tolist()\n",
    "    df = df.drop(cols_to_drop, axis=1)\n",
    "    return df    \n",
    "\n",
    "\n",
    "def extract_features(df):\n",
    "    return [i for i in df if i not in no_scale]\n",
    "\n",
    "def exclude_QM(df, t):\n",
    "    if t=='Lung':\n",
    "        return [i for i in df if i not in Lung_QMs]\n",
    "    else:\n",
    "        return [i for i in df if i not in Prostate_QMs]\n",
    "    "
   ]
  },
  {
   "cell_type": "code",
   "execution_count": 9,
   "id": "de623261",
   "metadata": {},
   "outputs": [
    {
     "name": "stdout",
     "output_type": "stream",
     "text": [
      "0.3480487278999567\n",
      "scaled lung shape after  dropping  (773, 48)\n",
      "scaled lung shape after  dropping  (773, 22)\n",
      "0.07315065271080796\n"
     ]
    },
    {
     "data": {
      "text/plain": [
       "LU_DVH_28                                                                                    0.187581\n",
       "TotalNumberOfNotes                                                                           0.000000\n",
       "LungEsophagitisWithGrade                                                                     0.000000\n",
       "LU_DVH_24                                                                                    0.187581\n",
       "NumberOfNotesWithToxicityInitialized                                                         0.000000\n",
       "LungPneumonitisTotal                                                                         0.000000\n",
       "LU_DVH_26                                                                                    0.187581\n",
       "LungPneumonitisWithGrade                                                                     0.000000\n",
       "LungEsophagitisTotal                                                                         0.000000\n",
       "vha_id                                                                                       0.000000\n",
       "Lung_Contra - Lung_Subtraction_Structure (Lung_Contra - Lung_Subtraction_Structure)_V20Gy    0.187581\n",
       "Lung_Contra - Lung_Subtraction_Structure (Lung_Contra - Lung_Subtraction_Structure)_DMean    0.187581\n",
       "SpinalCord_DMax                                                                              0.007762\n",
       "Esophagus_DMean                                                                              0.108668\n",
       "Esophagus_DMax                                                                               0.108668\n",
       "Esophagus_D0.035cc                                                                           0.108668\n",
       "Heart_V45Gy                                                                                  0.025873\n",
       "Esophagus_V60Gy                                                                              0.108668\n",
       "SpinalCord_D0.035cc                                                                          0.007762\n",
       "PTV_DMin                                                                                     0.003881\n",
       "Lung_Contra - Lung_Subtraction_Structure (Lung_Contra - Lung_Subtraction_Structure)_V5Gy     0.187581\n",
       "PTV_D95%                                                                                     0.003881\n",
       "dtype: float64"
      ]
     },
     "execution_count": 9,
     "metadata": {},
     "output_type": "execute_result"
    }
   ],
   "source": [
    "n_lung = pd.read_csv('data/Lung/numerical.csv', index_col=0)\n",
    "c_lung = pd.read_csv('data/Lung/categorical.csv', index_col=0)\n",
    "DATA = pd.merge(n_lung, c_lung, on='vha_id')\n",
    "\n",
    "\n",
    "n_lung_features = list(n_lung.keys())\n",
    "c_lung_features = list(c_lung.keys())\n",
    "all_features = list(DATA.keys())\n",
    "\n",
    "\n",
    "DATA = DATA.drop(Lung_QMs+['center_id','center_name_x', 'center_name_y','cancer_type_y', 'cancer_type_x'], axis=1)\n",
    "A = (DATA[[i for i in DATA.keys()]].isnull().sum()/773)\n",
    "print(sum(A)/len(A))\n",
    "\n",
    "\n",
    "print('scaled lung shape after  dropping ', DATA.shape)\n",
    "\n",
    "scaled_lung = dropping_cols(DATA, 25)\n",
    "print('scaled lung shape after  dropping ', scaled_lung.shape)\n",
    "\n",
    "\n",
    "A = (scaled_lung[[i for i in scaled_lung.keys()]].isnull().sum()/773)\n",
    "print(sum(A)/len(A))\n",
    "A\n"
   ]
  },
  {
   "cell_type": "code",
   "execution_count": 4,
   "id": "974e1c1a",
   "metadata": {},
   "outputs": [
    {
     "name": "stdout",
     "output_type": "stream",
     "text": [
      "N\t TotalNumberOfNotes\n",
      "N\t LungEsophagitisWithGrade\n",
      "N\t NumberOfNotesWithToxicityInitialized\n",
      "N\t LungPneumonitisTotal\n",
      "N\t LungPneumonitisWithGrade\n",
      "N\t LungEsophagitisTotal\n",
      "N\t vha_id\n"
     ]
    }
   ],
   "source": [
    "new_N_features, new_C_features = [], []\n",
    "for i in scaled_lung:\n",
    "    if i in n_lung_features:\n",
    "        print('N\\t', i)\n",
    "        new_N_features.append(i)\n",
    "    else:\n",
    "        new_C_features.append(i)\n",
    "        print('C\\t', i)"
   ]
  },
  {
   "cell_type": "code",
   "execution_count": 5,
   "id": "32768657",
   "metadata": {},
   "outputs": [
    {
     "ename": "NameError",
     "evalue": "name 'n_lung0' is not defined",
     "output_type": "error",
     "traceback": [
      "\u001b[0;31m---------------------------------------------------------------------------\u001b[0m",
      "\u001b[0;31mNameError\u001b[0m                                 Traceback (most recent call last)",
      "Cell \u001b[0;32mIn[5], line 4\u001b[0m\n\u001b[1;32m      1\u001b[0m Lung_cancer_type \u001b[38;5;241m=\u001b[39m \u001b[38;5;28mlist\u001b[39m(n_lung[\u001b[38;5;124m'\u001b[39m\u001b[38;5;124mcancer_type\u001b[39m\u001b[38;5;124m'\u001b[39m])\n\u001b[0;32m----> 4\u001b[0m n_lung \u001b[38;5;241m=\u001b[39m data_impute(\u001b[43mn_lung0\u001b[49m)\n\u001b[1;32m      5\u001b[0m scaled_lung \u001b[38;5;241m=\u001b[39m scaling(n_lung)\n\u001b[1;32m      6\u001b[0m \u001b[38;5;28mprint\u001b[39m(\u001b[38;5;124m'\u001b[39m\u001b[38;5;124mscaled lung shape before dropping \u001b[39m\u001b[38;5;124m'\u001b[39m, scaled_lung\u001b[38;5;241m.\u001b[39mshape)\n",
      "\u001b[0;31mNameError\u001b[0m: name 'n_lung0' is not defined"
     ]
    }
   ],
   "source": [
    "\n",
    "Lung_cancer_type = list(n_lung['cancer_type'])\n",
    "\n",
    "\n",
    "n_lung = data_impute(n_lung0)\n",
    "scaled_lung = scaling(n_lung)\n",
    "print('scaled lung shape before dropping ', scaled_lung.shape)\n",
    "\n",
    "scaled_lung = dropping_cols(scaled_lung, 50)\n",
    "print('scaled lung shape after  dropping ', scaled_lung.shape)\n",
    "\n",
    "scaled_lung.dropna(thresh=len(scaled_lung.columns) * 0.2)\n",
    "print('scaled lung shape is ', scaled_lung.shape)\n",
    "\n",
    "scaled_lung = scaled_lung.drop_duplicates()\n",
    "print('scaled lung shape is ', scaled_lung.shape)\n"
   ]
  },
  {
   "cell_type": "code",
   "execution_count": null,
   "id": "c8ac6af7",
   "metadata": {},
   "outputs": [],
   "source": [
    "\n",
    "lung_df = c_lung[[i for i in c_lung_features if i not in Lung_QMs+['center_name']]]\n"
   ]
  },
  {
   "cell_type": "code",
   "execution_count": null,
   "id": "0ae9858a",
   "metadata": {},
   "outputs": [],
   "source": [
    "print('scaled lung shape after  dropping ', lung_df.shape)\n",
    "scaled_c_lung = dropping_cols(lung_df, 80)\n",
    "print('scaled lung shape after  dropping ', scaled_c_lung.shape)\n"
   ]
  },
  {
   "cell_type": "code",
   "execution_count": null,
   "id": "117cbbc9",
   "metadata": {},
   "outputs": [],
   "source": []
  },
  {
   "cell_type": "code",
   "execution_count": null,
   "id": "740445e2",
   "metadata": {},
   "outputs": [],
   "source": [
    "scaled_c_lung.isnull().sum()/773"
   ]
  },
  {
   "cell_type": "code",
   "execution_count": null,
   "id": "cb11276f",
   "metadata": {},
   "outputs": [],
   "source": []
  },
  {
   "cell_type": "code",
   "execution_count": null,
   "id": "fda3b8c8",
   "metadata": {},
   "outputs": [],
   "source": []
  },
  {
   "cell_type": "code",
   "execution_count": null,
   "id": "48b998e5",
   "metadata": {},
   "outputs": [],
   "source": []
  },
  {
   "cell_type": "code",
   "execution_count": null,
   "id": "f1d98219",
   "metadata": {},
   "outputs": [],
   "source": []
  },
  {
   "cell_type": "code",
   "execution_count": null,
   "id": "631aeb3c",
   "metadata": {},
   "outputs": [],
   "source": []
  },
  {
   "cell_type": "code",
   "execution_count": null,
   "id": "b454c48b",
   "metadata": {},
   "outputs": [],
   "source": []
  },
  {
   "cell_type": "code",
   "execution_count": null,
   "id": "eb791095",
   "metadata": {},
   "outputs": [],
   "source": []
  },
  {
   "cell_type": "code",
   "execution_count": null,
   "id": "c3ef2da4",
   "metadata": {},
   "outputs": [],
   "source": []
  }
 ],
 "metadata": {
  "kernelspec": {
   "display_name": "Python 3 (ipykernel)",
   "language": "python",
   "name": "python3"
  },
  "language_info": {
   "codemirror_mode": {
    "name": "ipython",
    "version": 3
   },
   "file_extension": ".py",
   "mimetype": "text/x-python",
   "name": "python",
   "nbconvert_exporter": "python",
   "pygments_lexer": "ipython3",
   "version": "3.9.12"
  }
 },
 "nbformat": 4,
 "nbformat_minor": 5
}
