{
 "cells": [
  {
   "cell_type": "markdown",
   "id": "56bded55",
   "metadata": {},
   "source": [
    "# Handling Prostate dataset"
   ]
  },
  {
   "cell_type": "code",
   "execution_count": null,
   "id": "b9660254",
   "metadata": {},
   "outputs": [],
   "source": [
    "#handling numerical using standard scaler\n",
    "df2 = pd.read_csv('data/Prostate/numerical.csv', index_col=0)\n",
    "\n",
    "df2 = df2.fillna(0)\n",
    "\n",
    "scaled_prostate = scaling(df2)\n",
    "print('scaled prostate shape is ', scaled_prostate.shape)\n",
    "\n",
    "scaled_prostate = dropping_cols(scaled_prostate)\n",
    "print('scaled prostate shape is ', scaled_prostate.shape)\n",
    "\n",
    "#dropping rows with missed values of more than 80%\n",
    "scaled_prostate.dropna(thresh=len(scaled_prostate.columns) * 0.2)\n",
    "print('scaled prostate shape is ', scaled_prostate.shape)\n",
    "\n",
    "#dropping duplicate\n",
    "scaled_prostate = scaled_prostate.drop_duplicates()\n",
    "print('scaled prostate shape is ', scaled_prostate.shape)\n",
    "\n",
    "#removing correlated features with more than 0.9 correlation\n",
    "scaled_prostate = remove_correlated(scaled_prostate)\n",
    "print('scaled prostate shape is ', scaled_prostate.shape)"
   ]
  },
  {
   "cell_type": "markdown",
   "id": "609d8310",
   "metadata": {},
   "source": [
    "## Method:\n",
    "- PSGs\n",
    "- SNF\n",
    "- Clustering of the SNF..."
   ]
  },
  {
   "cell_type": "markdown",
   "id": "5202bbbd",
   "metadata": {},
   "source": [
    "## 1- Features to PSGs"
   ]
  },
  {
   "cell_type": "code",
   "execution_count": null,
   "id": "59159b4a",
   "metadata": {},
   "outputs": [],
   "source": [
    "prostate_db = []\n",
    "# scaled_prostate[i] for i in scaled_prostate]\n",
    "​\n",
    "# Calculate the similarity matrix\n",
    "for d in scaled_prostate:\n",
    "    distances = pdist(scaled_prostate[d].to_numpy().reshape(-1, 1), metric='euclidean')\n",
    "    similarity_matrix = 1 / (1 + squareform(distances))\n",
    "    prostate_db.append(similarity_matrix)"
   ]
  },
  {
   "cell_type": "markdown",
   "id": "596011b1",
   "metadata": {},
   "source": [
    "## 2- SNF"
   ]
  },
  {
   "cell_type": "code",
   "execution_count": null,
   "id": "4dd785a0",
   "metadata": {},
   "outputs": [],
   "source": [
    "affinity_networks = snf.make_affinity(prostate_db, metric=dist, K=20, mu=0.5)\n",
    "fused_network = snf.snf(affinity_networks, K=20)\n",
    "best, second = snf.get_n_clusters(fused_network)\n",
    "​\n",
    "print(best, second)"
   ]
  },
  {
   "cell_type": "markdown",
   "id": "f8d34002",
   "metadata": {},
   "source": [
    "## Clustering\n",
    "​\n"
   ]
  },
  {
   "cell_type": "code",
   "execution_count": null,
   "id": "3ac234bb",
   "metadata": {},
   "outputs": [],
   "source": [
    "Prostate_labels = spectral_clustering(fused_network, n_clusters=best)\n",
    "Prostate_All     = {'vha_id': Prostate_patients    , 'cluster': list(Prostate_labels) }\n",
    "df_prostate = pd.DataFrame(Prostate_All)\n",
    "​\n",
    "survival0 = pd.read_csv('data/survival.csv')\n",
    "Prostate_survival = pd.merge(df_prostate, survival0, on='vha_id')\n",
    "histo(Prostate_survival, 'Prostate')"
   ]
  },
  {
   "cell_type": "markdown",
   "id": "a5fc4715",
   "metadata": {},
   "source": [
    "## Analysis"
   ]
  },
  {
   "cell_type": "code",
   "execution_count": null,
   "id": "828fd0fe",
   "metadata": {},
   "outputs": [],
   "source": [
    "groups = dict(tuple(Prostate_survival.groupby('cluster')))\n",
    "\n",
    "groups_details(groups)\n"
   ]
  }
 ],
 "metadata": {
  "kernelspec": {
   "display_name": "Python 3 (ipykernel)",
   "language": "python",
   "name": "python3"
  },
  "language_info": {
   "codemirror_mode": {
    "name": "ipython",
    "version": 3
   },
   "file_extension": ".py",
   "mimetype": "text/x-python",
   "name": "python",
   "nbconvert_exporter": "python",
   "pygments_lexer": "ipython3",
   "version": "3.9.13"
  }
 },
 "nbformat": 4,
 "nbformat_minor": 5
}
